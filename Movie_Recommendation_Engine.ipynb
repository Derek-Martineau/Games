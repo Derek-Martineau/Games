{
  "nbformat": 4,
  "nbformat_minor": 0,
  "metadata": {
    "colab": {
      "provenance": [],
      "include_colab_link": true
    },
    "kernelspec": {
      "name": "python3",
      "display_name": "Python 3"
    },
    "language_info": {
      "name": "python"
    }
  },
  "cells": [
    {
      "cell_type": "markdown",
      "metadata": {
        "id": "view-in-github",
        "colab_type": "text"
      },
      "source": [
        "<a href=\"https://colab.research.google.com/github/Derek-Martineau/Games/blob/main/Movie_Recommendation_Engine.ipynb\" target=\"_parent\"><img src=\"https://colab.research.google.com/assets/colab-badge.svg\" alt=\"Open In Colab\"/></a>"
      ]
    },
    {
      "cell_type": "code",
      "execution_count": null,
      "metadata": {
        "id": "70-EMiO5GE9m"
      },
      "outputs": [],
      "source": [
        "#import the libraries\n",
        "import pandas as pd\n",
        "import numpy as np\n",
        "from sklearn.metrics.pairwise import cosine_similarity\n",
        "from sklearn.feature_extraction.text import CountVectorizer"
      ]
    },
    {
      "cell_type": "code",
      "source": [
        "#load the data\n",
        "df=pd.read_csv(\"/content/movie_data.csv\")"
      ],
      "metadata": {
        "id": "Imrhqh9XHPmB"
      },
      "execution_count": null,
      "outputs": []
    },
    {
      "cell_type": "code",
      "source": [
        "#create movie id column\n",
        "df['Movie_id'] = range(0,1000)\n",
        "df.head(3)"
      ],
      "metadata": {
        "id": "2OTmsEYaO5lV",
        "colab": {
          "base_uri": "https://localhost:8080/",
          "height": 326
        },
        "outputId": "772aa4e6-c909-42a8-ac2d-e67a46c793b0"
      },
      "execution_count": null,
      "outputs": [
        {
          "output_type": "execute_result",
          "data": {
            "text/plain": [
              "   Rank                    Title                     Genre  \\\n",
              "0     1  Guardians of the Galaxy   Action,Adventure,Sci-Fi   \n",
              "1     2               Prometheus  Adventure,Mystery,Sci-Fi   \n",
              "2     3                    Split           Horror,Thriller   \n",
              "\n",
              "                                         Description            Director  \\\n",
              "0  A group of intergalactic criminals are forced ...          James Gunn   \n",
              "1  Following clues to the origin of mankind, a te...        Ridley Scott   \n",
              "2  Three girls are kidnapped by a man with a diag...  M. Night Shyamalan   \n",
              "\n",
              "                                              Actors  Year  Runtime (Minutes)  \\\n",
              "0  Chris Pratt, Vin Diesel, Bradley Cooper, Zoe S...  2014                121   \n",
              "1  Noomi Rapace, Logan Marshall-Green, Michael Fa...  2012                124   \n",
              "2  James McAvoy, Anya Taylor-Joy, Haley Lu Richar...  2016                117   \n",
              "\n",
              "   Rating   Votes  Revenue (Millions)  Metascore  Movie_id  \n",
              "0     8.1  757074              333.13       76.0         0  \n",
              "1     7.0  485820              126.46       65.0         1  \n",
              "2     7.3  157606              138.12       62.0         2  "
            ],
            "text/html": [
              "\n",
              "  <div id=\"df-59cab88b-ad8e-44ab-8ef4-b1ddb70ae8f8\">\n",
              "    <div class=\"colab-df-container\">\n",
              "      <div>\n",
              "<style scoped>\n",
              "    .dataframe tbody tr th:only-of-type {\n",
              "        vertical-align: middle;\n",
              "    }\n",
              "\n",
              "    .dataframe tbody tr th {\n",
              "        vertical-align: top;\n",
              "    }\n",
              "\n",
              "    .dataframe thead th {\n",
              "        text-align: right;\n",
              "    }\n",
              "</style>\n",
              "<table border=\"1\" class=\"dataframe\">\n",
              "  <thead>\n",
              "    <tr style=\"text-align: right;\">\n",
              "      <th></th>\n",
              "      <th>Rank</th>\n",
              "      <th>Title</th>\n",
              "      <th>Genre</th>\n",
              "      <th>Description</th>\n",
              "      <th>Director</th>\n",
              "      <th>Actors</th>\n",
              "      <th>Year</th>\n",
              "      <th>Runtime (Minutes)</th>\n",
              "      <th>Rating</th>\n",
              "      <th>Votes</th>\n",
              "      <th>Revenue (Millions)</th>\n",
              "      <th>Metascore</th>\n",
              "      <th>Movie_id</th>\n",
              "    </tr>\n",
              "  </thead>\n",
              "  <tbody>\n",
              "    <tr>\n",
              "      <th>0</th>\n",
              "      <td>1</td>\n",
              "      <td>Guardians of the Galaxy</td>\n",
              "      <td>Action,Adventure,Sci-Fi</td>\n",
              "      <td>A group of intergalactic criminals are forced ...</td>\n",
              "      <td>James Gunn</td>\n",
              "      <td>Chris Pratt, Vin Diesel, Bradley Cooper, Zoe S...</td>\n",
              "      <td>2014</td>\n",
              "      <td>121</td>\n",
              "      <td>8.1</td>\n",
              "      <td>757074</td>\n",
              "      <td>333.13</td>\n",
              "      <td>76.0</td>\n",
              "      <td>0</td>\n",
              "    </tr>\n",
              "    <tr>\n",
              "      <th>1</th>\n",
              "      <td>2</td>\n",
              "      <td>Prometheus</td>\n",
              "      <td>Adventure,Mystery,Sci-Fi</td>\n",
              "      <td>Following clues to the origin of mankind, a te...</td>\n",
              "      <td>Ridley Scott</td>\n",
              "      <td>Noomi Rapace, Logan Marshall-Green, Michael Fa...</td>\n",
              "      <td>2012</td>\n",
              "      <td>124</td>\n",
              "      <td>7.0</td>\n",
              "      <td>485820</td>\n",
              "      <td>126.46</td>\n",
              "      <td>65.0</td>\n",
              "      <td>1</td>\n",
              "    </tr>\n",
              "    <tr>\n",
              "      <th>2</th>\n",
              "      <td>3</td>\n",
              "      <td>Split</td>\n",
              "      <td>Horror,Thriller</td>\n",
              "      <td>Three girls are kidnapped by a man with a diag...</td>\n",
              "      <td>M. Night Shyamalan</td>\n",
              "      <td>James McAvoy, Anya Taylor-Joy, Haley Lu Richar...</td>\n",
              "      <td>2016</td>\n",
              "      <td>117</td>\n",
              "      <td>7.3</td>\n",
              "      <td>157606</td>\n",
              "      <td>138.12</td>\n",
              "      <td>62.0</td>\n",
              "      <td>2</td>\n",
              "    </tr>\n",
              "  </tbody>\n",
              "</table>\n",
              "</div>\n",
              "      <button class=\"colab-df-convert\" onclick=\"convertToInteractive('df-59cab88b-ad8e-44ab-8ef4-b1ddb70ae8f8')\"\n",
              "              title=\"Convert this dataframe to an interactive table.\"\n",
              "              style=\"display:none;\">\n",
              "        \n",
              "  <svg xmlns=\"http://www.w3.org/2000/svg\" height=\"24px\"viewBox=\"0 0 24 24\"\n",
              "       width=\"24px\">\n",
              "    <path d=\"M0 0h24v24H0V0z\" fill=\"none\"/>\n",
              "    <path d=\"M18.56 5.44l.94 2.06.94-2.06 2.06-.94-2.06-.94-.94-2.06-.94 2.06-2.06.94zm-11 1L8.5 8.5l.94-2.06 2.06-.94-2.06-.94L8.5 2.5l-.94 2.06-2.06.94zm10 10l.94 2.06.94-2.06 2.06-.94-2.06-.94-.94-2.06-.94 2.06-2.06.94z\"/><path d=\"M17.41 7.96l-1.37-1.37c-.4-.4-.92-.59-1.43-.59-.52 0-1.04.2-1.43.59L10.3 9.45l-7.72 7.72c-.78.78-.78 2.05 0 2.83L4 21.41c.39.39.9.59 1.41.59.51 0 1.02-.2 1.41-.59l7.78-7.78 2.81-2.81c.8-.78.8-2.07 0-2.86zM5.41 20L4 18.59l7.72-7.72 1.47 1.35L5.41 20z\"/>\n",
              "  </svg>\n",
              "      </button>\n",
              "      \n",
              "  <style>\n",
              "    .colab-df-container {\n",
              "      display:flex;\n",
              "      flex-wrap:wrap;\n",
              "      gap: 12px;\n",
              "    }\n",
              "\n",
              "    .colab-df-convert {\n",
              "      background-color: #E8F0FE;\n",
              "      border: none;\n",
              "      border-radius: 50%;\n",
              "      cursor: pointer;\n",
              "      display: none;\n",
              "      fill: #1967D2;\n",
              "      height: 32px;\n",
              "      padding: 0 0 0 0;\n",
              "      width: 32px;\n",
              "    }\n",
              "\n",
              "    .colab-df-convert:hover {\n",
              "      background-color: #E2EBFA;\n",
              "      box-shadow: 0px 1px 2px rgba(60, 64, 67, 0.3), 0px 1px 3px 1px rgba(60, 64, 67, 0.15);\n",
              "      fill: #174EA6;\n",
              "    }\n",
              "\n",
              "    [theme=dark] .colab-df-convert {\n",
              "      background-color: #3B4455;\n",
              "      fill: #D2E3FC;\n",
              "    }\n",
              "\n",
              "    [theme=dark] .colab-df-convert:hover {\n",
              "      background-color: #434B5C;\n",
              "      box-shadow: 0px 1px 3px 1px rgba(0, 0, 0, 0.15);\n",
              "      filter: drop-shadow(0px 1px 2px rgba(0, 0, 0, 0.3));\n",
              "      fill: #FFFFFF;\n",
              "    }\n",
              "  </style>\n",
              "\n",
              "      <script>\n",
              "        const buttonEl =\n",
              "          document.querySelector('#df-59cab88b-ad8e-44ab-8ef4-b1ddb70ae8f8 button.colab-df-convert');\n",
              "        buttonEl.style.display =\n",
              "          google.colab.kernel.accessAllowed ? 'block' : 'none';\n",
              "\n",
              "        async function convertToInteractive(key) {\n",
              "          const element = document.querySelector('#df-59cab88b-ad8e-44ab-8ef4-b1ddb70ae8f8');\n",
              "          const dataTable =\n",
              "            await google.colab.kernel.invokeFunction('convertToInteractive',\n",
              "                                                     [key], {});\n",
              "          if (!dataTable) return;\n",
              "\n",
              "          const docLinkHtml = 'Like what you see? Visit the ' +\n",
              "            '<a target=\"_blank\" href=https://colab.research.google.com/notebooks/data_table.ipynb>data table notebook</a>'\n",
              "            + ' to learn more about interactive tables.';\n",
              "          element.innerHTML = '';\n",
              "          dataTable['output_type'] = 'display_data';\n",
              "          await google.colab.output.renderOutput(dataTable, element);\n",
              "          const docLink = document.createElement('div');\n",
              "          docLink.innerHTML = docLinkHtml;\n",
              "          element.appendChild(docLink);\n",
              "        }\n",
              "      </script>\n",
              "    </div>\n",
              "  </div>\n",
              "  "
            ]
          },
          "metadata": {},
          "execution_count": 9
        }
      ]
    },
    {
      "cell_type": "code",
      "source": [
        "#retrieve the list of columns that our dataset contains\n",
        "df.columns"
      ],
      "metadata": {
        "colab": {
          "base_uri": "https://localhost:8080/"
        },
        "id": "kBMfRceli9qW",
        "outputId": "d1b45d10-fef6-49e4-8852-05e200438359"
      },
      "execution_count": null,
      "outputs": [
        {
          "output_type": "execute_result",
          "data": {
            "text/plain": [
              "Index(['Rank', 'Title', 'Genre', 'Description', 'Director', 'Actors', 'Year',\n",
              "       'Runtime (Minutes)', 'Rating', 'Votes', 'Revenue (Millions)',\n",
              "       'Metascore', 'Movie_id'],\n",
              "      dtype='object')"
            ]
          },
          "metadata": {},
          "execution_count": 10
        }
      ]
    },
    {
      "cell_type": "code",
      "source": [
        "#get a count of number of movies in dataset and number of columns\n",
        "df.shape"
      ],
      "metadata": {
        "colab": {
          "base_uri": "https://localhost:8080/"
        },
        "id": "b9khfCOOIWL9",
        "outputId": "b3607f95-dda3-41a7-a3ae-5fbcbcf044e1"
      },
      "execution_count": null,
      "outputs": [
        {
          "output_type": "execute_result",
          "data": {
            "text/plain": [
              "(1000, 13)"
            ]
          },
          "metadata": {},
          "execution_count": 11
        }
      ]
    },
    {
      "cell_type": "code",
      "source": [
        "#list of important columns\n",
        "columns = ['Actors', 'Director', 'Genre', 'Title']"
      ],
      "metadata": {
        "id": "HwMP_S1aK-hj"
      },
      "execution_count": null,
      "outputs": []
    },
    {
      "cell_type": "code",
      "source": [
        "#show the data\n",
        "df[columns].head()"
      ],
      "metadata": {
        "colab": {
          "base_uri": "https://localhost:8080/",
          "height": 206
        },
        "id": "fBXX2naOLOsM",
        "outputId": "972acadf-2762-45a1-b6ad-51171f4c7db6"
      },
      "execution_count": null,
      "outputs": [
        {
          "output_type": "execute_result",
          "data": {
            "text/plain": [
              "                                              Actors              Director  \\\n",
              "0  Chris Pratt, Vin Diesel, Bradley Cooper, Zoe S...            James Gunn   \n",
              "1  Noomi Rapace, Logan Marshall-Green, Michael Fa...          Ridley Scott   \n",
              "2  James McAvoy, Anya Taylor-Joy, Haley Lu Richar...    M. Night Shyamalan   \n",
              "3  Matthew McConaughey,Reese Witherspoon, Seth Ma...  Christophe Lourdelet   \n",
              "4  Will Smith, Jared Leto, Margot Robbie, Viola D...            David Ayer   \n",
              "\n",
              "                      Genre                    Title  \n",
              "0   Action,Adventure,Sci-Fi  Guardians of the Galaxy  \n",
              "1  Adventure,Mystery,Sci-Fi               Prometheus  \n",
              "2           Horror,Thriller                    Split  \n",
              "3   Animation,Comedy,Family                     Sing  \n",
              "4  Action,Adventure,Fantasy            Suicide Squad  "
            ],
            "text/html": [
              "\n",
              "  <div id=\"df-c690090e-4396-41c4-bc55-fa6de5106d87\">\n",
              "    <div class=\"colab-df-container\">\n",
              "      <div>\n",
              "<style scoped>\n",
              "    .dataframe tbody tr th:only-of-type {\n",
              "        vertical-align: middle;\n",
              "    }\n",
              "\n",
              "    .dataframe tbody tr th {\n",
              "        vertical-align: top;\n",
              "    }\n",
              "\n",
              "    .dataframe thead th {\n",
              "        text-align: right;\n",
              "    }\n",
              "</style>\n",
              "<table border=\"1\" class=\"dataframe\">\n",
              "  <thead>\n",
              "    <tr style=\"text-align: right;\">\n",
              "      <th></th>\n",
              "      <th>Actors</th>\n",
              "      <th>Director</th>\n",
              "      <th>Genre</th>\n",
              "      <th>Title</th>\n",
              "    </tr>\n",
              "  </thead>\n",
              "  <tbody>\n",
              "    <tr>\n",
              "      <th>0</th>\n",
              "      <td>Chris Pratt, Vin Diesel, Bradley Cooper, Zoe S...</td>\n",
              "      <td>James Gunn</td>\n",
              "      <td>Action,Adventure,Sci-Fi</td>\n",
              "      <td>Guardians of the Galaxy</td>\n",
              "    </tr>\n",
              "    <tr>\n",
              "      <th>1</th>\n",
              "      <td>Noomi Rapace, Logan Marshall-Green, Michael Fa...</td>\n",
              "      <td>Ridley Scott</td>\n",
              "      <td>Adventure,Mystery,Sci-Fi</td>\n",
              "      <td>Prometheus</td>\n",
              "    </tr>\n",
              "    <tr>\n",
              "      <th>2</th>\n",
              "      <td>James McAvoy, Anya Taylor-Joy, Haley Lu Richar...</td>\n",
              "      <td>M. Night Shyamalan</td>\n",
              "      <td>Horror,Thriller</td>\n",
              "      <td>Split</td>\n",
              "    </tr>\n",
              "    <tr>\n",
              "      <th>3</th>\n",
              "      <td>Matthew McConaughey,Reese Witherspoon, Seth Ma...</td>\n",
              "      <td>Christophe Lourdelet</td>\n",
              "      <td>Animation,Comedy,Family</td>\n",
              "      <td>Sing</td>\n",
              "    </tr>\n",
              "    <tr>\n",
              "      <th>4</th>\n",
              "      <td>Will Smith, Jared Leto, Margot Robbie, Viola D...</td>\n",
              "      <td>David Ayer</td>\n",
              "      <td>Action,Adventure,Fantasy</td>\n",
              "      <td>Suicide Squad</td>\n",
              "    </tr>\n",
              "  </tbody>\n",
              "</table>\n",
              "</div>\n",
              "      <button class=\"colab-df-convert\" onclick=\"convertToInteractive('df-c690090e-4396-41c4-bc55-fa6de5106d87')\"\n",
              "              title=\"Convert this dataframe to an interactive table.\"\n",
              "              style=\"display:none;\">\n",
              "        \n",
              "  <svg xmlns=\"http://www.w3.org/2000/svg\" height=\"24px\"viewBox=\"0 0 24 24\"\n",
              "       width=\"24px\">\n",
              "    <path d=\"M0 0h24v24H0V0z\" fill=\"none\"/>\n",
              "    <path d=\"M18.56 5.44l.94 2.06.94-2.06 2.06-.94-2.06-.94-.94-2.06-.94 2.06-2.06.94zm-11 1L8.5 8.5l.94-2.06 2.06-.94-2.06-.94L8.5 2.5l-.94 2.06-2.06.94zm10 10l.94 2.06.94-2.06 2.06-.94-2.06-.94-.94-2.06-.94 2.06-2.06.94z\"/><path d=\"M17.41 7.96l-1.37-1.37c-.4-.4-.92-.59-1.43-.59-.52 0-1.04.2-1.43.59L10.3 9.45l-7.72 7.72c-.78.78-.78 2.05 0 2.83L4 21.41c.39.39.9.59 1.41.59.51 0 1.02-.2 1.41-.59l7.78-7.78 2.81-2.81c.8-.78.8-2.07 0-2.86zM5.41 20L4 18.59l7.72-7.72 1.47 1.35L5.41 20z\"/>\n",
              "  </svg>\n",
              "      </button>\n",
              "      \n",
              "  <style>\n",
              "    .colab-df-container {\n",
              "      display:flex;\n",
              "      flex-wrap:wrap;\n",
              "      gap: 12px;\n",
              "    }\n",
              "\n",
              "    .colab-df-convert {\n",
              "      background-color: #E8F0FE;\n",
              "      border: none;\n",
              "      border-radius: 50%;\n",
              "      cursor: pointer;\n",
              "      display: none;\n",
              "      fill: #1967D2;\n",
              "      height: 32px;\n",
              "      padding: 0 0 0 0;\n",
              "      width: 32px;\n",
              "    }\n",
              "\n",
              "    .colab-df-convert:hover {\n",
              "      background-color: #E2EBFA;\n",
              "      box-shadow: 0px 1px 2px rgba(60, 64, 67, 0.3), 0px 1px 3px 1px rgba(60, 64, 67, 0.15);\n",
              "      fill: #174EA6;\n",
              "    }\n",
              "\n",
              "    [theme=dark] .colab-df-convert {\n",
              "      background-color: #3B4455;\n",
              "      fill: #D2E3FC;\n",
              "    }\n",
              "\n",
              "    [theme=dark] .colab-df-convert:hover {\n",
              "      background-color: #434B5C;\n",
              "      box-shadow: 0px 1px 3px 1px rgba(0, 0, 0, 0.15);\n",
              "      filter: drop-shadow(0px 1px 2px rgba(0, 0, 0, 0.3));\n",
              "      fill: #FFFFFF;\n",
              "    }\n",
              "  </style>\n",
              "\n",
              "      <script>\n",
              "        const buttonEl =\n",
              "          document.querySelector('#df-c690090e-4396-41c4-bc55-fa6de5106d87 button.colab-df-convert');\n",
              "        buttonEl.style.display =\n",
              "          google.colab.kernel.accessAllowed ? 'block' : 'none';\n",
              "\n",
              "        async function convertToInteractive(key) {\n",
              "          const element = document.querySelector('#df-c690090e-4396-41c4-bc55-fa6de5106d87');\n",
              "          const dataTable =\n",
              "            await google.colab.kernel.invokeFunction('convertToInteractive',\n",
              "                                                     [key], {});\n",
              "          if (!dataTable) return;\n",
              "\n",
              "          const docLinkHtml = 'Like what you see? Visit the ' +\n",
              "            '<a target=\"_blank\" href=https://colab.research.google.com/notebooks/data_table.ipynb>data table notebook</a>'\n",
              "            + ' to learn more about interactive tables.';\n",
              "          element.innerHTML = '';\n",
              "          dataTable['output_type'] = 'display_data';\n",
              "          await google.colab.output.renderOutput(dataTable, element);\n",
              "          const docLink = document.createElement('div');\n",
              "          docLink.innerHTML = docLinkHtml;\n",
              "          element.appendChild(docLink);\n",
              "        }\n",
              "      </script>\n",
              "    </div>\n",
              "  </div>\n",
              "  "
            ]
          },
          "metadata": {},
          "execution_count": 13
        }
      ]
    },
    {
      "cell_type": "code",
      "source": [
        "#check for any missing values in the important columns \n",
        "df[columns].isnull().values.any()"
      ],
      "metadata": {
        "colab": {
          "base_uri": "https://localhost:8080/"
        },
        "id": "U9lWr3eLLXGR",
        "outputId": "1acb60ed-2251-47d5-89f0-c39171d78430"
      },
      "execution_count": null,
      "outputs": [
        {
          "output_type": "execute_result",
          "data": {
            "text/plain": [
              "False"
            ]
          },
          "metadata": {},
          "execution_count": 14
        }
      ]
    },
    {
      "cell_type": "code",
      "source": [
        "#create a function to combine the values of the important columns into one string\n",
        "def get_important_features(data):\n",
        "  important_features = []\n",
        "  for i in range(0, data.shape[0]):\n",
        "    important_features.append(data['Actors'][i]+' '+data['Director'][i]+' '+data['Genre'][i]+' '+data['Title'][i])\n",
        "\n",
        "  return important_features"
      ],
      "metadata": {
        "id": "3lN9LqxBLnLf"
      },
      "execution_count": null,
      "outputs": []
    },
    {
      "cell_type": "code",
      "source": [
        "print(get_important_features)"
      ],
      "metadata": {
        "colab": {
          "base_uri": "https://localhost:8080/"
        },
        "id": "nIpJY6_KjdID",
        "outputId": "120ad0e8-74d0-4fc4-98e8-dfb9b055acd1"
      },
      "execution_count": null,
      "outputs": [
        {
          "output_type": "stream",
          "name": "stdout",
          "text": [
            "<function get_important_features at 0x7f8f91689940>\n"
          ]
        }
      ]
    },
    {
      "cell_type": "code",
      "source": [
        "#create a column to hold the combined strings\n",
        "df['important_features'] = get_important_features(df)\n",
        "\n",
        "#show the data\n",
        "df.head()"
      ],
      "metadata": {
        "colab": {
          "base_uri": "https://localhost:8080/",
          "height": 583
        },
        "id": "UmKyTnKcMsOe",
        "outputId": "f256dca7-4c19-4d61-d247-5352b7349a48"
      },
      "execution_count": null,
      "outputs": [
        {
          "output_type": "execute_result",
          "data": {
            "text/plain": [
              "   Rank                    Title                     Genre  \\\n",
              "0     1  Guardians of the Galaxy   Action,Adventure,Sci-Fi   \n",
              "1     2               Prometheus  Adventure,Mystery,Sci-Fi   \n",
              "2     3                    Split           Horror,Thriller   \n",
              "3     4                     Sing   Animation,Comedy,Family   \n",
              "4     5            Suicide Squad  Action,Adventure,Fantasy   \n",
              "\n",
              "                                         Description              Director  \\\n",
              "0  A group of intergalactic criminals are forced ...            James Gunn   \n",
              "1  Following clues to the origin of mankind, a te...          Ridley Scott   \n",
              "2  Three girls are kidnapped by a man with a diag...    M. Night Shyamalan   \n",
              "3  In a city of humanoid animals, a hustling thea...  Christophe Lourdelet   \n",
              "4  A secret government agency recruits some of th...            David Ayer   \n",
              "\n",
              "                                              Actors  Year  Runtime (Minutes)  \\\n",
              "0  Chris Pratt, Vin Diesel, Bradley Cooper, Zoe S...  2014                121   \n",
              "1  Noomi Rapace, Logan Marshall-Green, Michael Fa...  2012                124   \n",
              "2  James McAvoy, Anya Taylor-Joy, Haley Lu Richar...  2016                117   \n",
              "3  Matthew McConaughey,Reese Witherspoon, Seth Ma...  2016                108   \n",
              "4  Will Smith, Jared Leto, Margot Robbie, Viola D...  2016                123   \n",
              "\n",
              "   Rating   Votes  Revenue (Millions)  Metascore  Movie_id  \\\n",
              "0     8.1  757074              333.13       76.0         0   \n",
              "1     7.0  485820              126.46       65.0         1   \n",
              "2     7.3  157606              138.12       62.0         2   \n",
              "3     7.2   60545              270.32       59.0         3   \n",
              "4     6.2  393727              325.02       40.0         4   \n",
              "\n",
              "                                  important_features  \n",
              "0  Chris Pratt, Vin Diesel, Bradley Cooper, Zoe S...  \n",
              "1  Noomi Rapace, Logan Marshall-Green, Michael Fa...  \n",
              "2  James McAvoy, Anya Taylor-Joy, Haley Lu Richar...  \n",
              "3  Matthew McConaughey,Reese Witherspoon, Seth Ma...  \n",
              "4  Will Smith, Jared Leto, Margot Robbie, Viola D...  "
            ],
            "text/html": [
              "\n",
              "  <div id=\"df-55814e34-e7a8-4bcc-8d60-a2d464cf95d1\">\n",
              "    <div class=\"colab-df-container\">\n",
              "      <div>\n",
              "<style scoped>\n",
              "    .dataframe tbody tr th:only-of-type {\n",
              "        vertical-align: middle;\n",
              "    }\n",
              "\n",
              "    .dataframe tbody tr th {\n",
              "        vertical-align: top;\n",
              "    }\n",
              "\n",
              "    .dataframe thead th {\n",
              "        text-align: right;\n",
              "    }\n",
              "</style>\n",
              "<table border=\"1\" class=\"dataframe\">\n",
              "  <thead>\n",
              "    <tr style=\"text-align: right;\">\n",
              "      <th></th>\n",
              "      <th>Rank</th>\n",
              "      <th>Title</th>\n",
              "      <th>Genre</th>\n",
              "      <th>Description</th>\n",
              "      <th>Director</th>\n",
              "      <th>Actors</th>\n",
              "      <th>Year</th>\n",
              "      <th>Runtime (Minutes)</th>\n",
              "      <th>Rating</th>\n",
              "      <th>Votes</th>\n",
              "      <th>Revenue (Millions)</th>\n",
              "      <th>Metascore</th>\n",
              "      <th>Movie_id</th>\n",
              "      <th>important_features</th>\n",
              "    </tr>\n",
              "  </thead>\n",
              "  <tbody>\n",
              "    <tr>\n",
              "      <th>0</th>\n",
              "      <td>1</td>\n",
              "      <td>Guardians of the Galaxy</td>\n",
              "      <td>Action,Adventure,Sci-Fi</td>\n",
              "      <td>A group of intergalactic criminals are forced ...</td>\n",
              "      <td>James Gunn</td>\n",
              "      <td>Chris Pratt, Vin Diesel, Bradley Cooper, Zoe S...</td>\n",
              "      <td>2014</td>\n",
              "      <td>121</td>\n",
              "      <td>8.1</td>\n",
              "      <td>757074</td>\n",
              "      <td>333.13</td>\n",
              "      <td>76.0</td>\n",
              "      <td>0</td>\n",
              "      <td>Chris Pratt, Vin Diesel, Bradley Cooper, Zoe S...</td>\n",
              "    </tr>\n",
              "    <tr>\n",
              "      <th>1</th>\n",
              "      <td>2</td>\n",
              "      <td>Prometheus</td>\n",
              "      <td>Adventure,Mystery,Sci-Fi</td>\n",
              "      <td>Following clues to the origin of mankind, a te...</td>\n",
              "      <td>Ridley Scott</td>\n",
              "      <td>Noomi Rapace, Logan Marshall-Green, Michael Fa...</td>\n",
              "      <td>2012</td>\n",
              "      <td>124</td>\n",
              "      <td>7.0</td>\n",
              "      <td>485820</td>\n",
              "      <td>126.46</td>\n",
              "      <td>65.0</td>\n",
              "      <td>1</td>\n",
              "      <td>Noomi Rapace, Logan Marshall-Green, Michael Fa...</td>\n",
              "    </tr>\n",
              "    <tr>\n",
              "      <th>2</th>\n",
              "      <td>3</td>\n",
              "      <td>Split</td>\n",
              "      <td>Horror,Thriller</td>\n",
              "      <td>Three girls are kidnapped by a man with a diag...</td>\n",
              "      <td>M. Night Shyamalan</td>\n",
              "      <td>James McAvoy, Anya Taylor-Joy, Haley Lu Richar...</td>\n",
              "      <td>2016</td>\n",
              "      <td>117</td>\n",
              "      <td>7.3</td>\n",
              "      <td>157606</td>\n",
              "      <td>138.12</td>\n",
              "      <td>62.0</td>\n",
              "      <td>2</td>\n",
              "      <td>James McAvoy, Anya Taylor-Joy, Haley Lu Richar...</td>\n",
              "    </tr>\n",
              "    <tr>\n",
              "      <th>3</th>\n",
              "      <td>4</td>\n",
              "      <td>Sing</td>\n",
              "      <td>Animation,Comedy,Family</td>\n",
              "      <td>In a city of humanoid animals, a hustling thea...</td>\n",
              "      <td>Christophe Lourdelet</td>\n",
              "      <td>Matthew McConaughey,Reese Witherspoon, Seth Ma...</td>\n",
              "      <td>2016</td>\n",
              "      <td>108</td>\n",
              "      <td>7.2</td>\n",
              "      <td>60545</td>\n",
              "      <td>270.32</td>\n",
              "      <td>59.0</td>\n",
              "      <td>3</td>\n",
              "      <td>Matthew McConaughey,Reese Witherspoon, Seth Ma...</td>\n",
              "    </tr>\n",
              "    <tr>\n",
              "      <th>4</th>\n",
              "      <td>5</td>\n",
              "      <td>Suicide Squad</td>\n",
              "      <td>Action,Adventure,Fantasy</td>\n",
              "      <td>A secret government agency recruits some of th...</td>\n",
              "      <td>David Ayer</td>\n",
              "      <td>Will Smith, Jared Leto, Margot Robbie, Viola D...</td>\n",
              "      <td>2016</td>\n",
              "      <td>123</td>\n",
              "      <td>6.2</td>\n",
              "      <td>393727</td>\n",
              "      <td>325.02</td>\n",
              "      <td>40.0</td>\n",
              "      <td>4</td>\n",
              "      <td>Will Smith, Jared Leto, Margot Robbie, Viola D...</td>\n",
              "    </tr>\n",
              "  </tbody>\n",
              "</table>\n",
              "</div>\n",
              "      <button class=\"colab-df-convert\" onclick=\"convertToInteractive('df-55814e34-e7a8-4bcc-8d60-a2d464cf95d1')\"\n",
              "              title=\"Convert this dataframe to an interactive table.\"\n",
              "              style=\"display:none;\">\n",
              "        \n",
              "  <svg xmlns=\"http://www.w3.org/2000/svg\" height=\"24px\"viewBox=\"0 0 24 24\"\n",
              "       width=\"24px\">\n",
              "    <path d=\"M0 0h24v24H0V0z\" fill=\"none\"/>\n",
              "    <path d=\"M18.56 5.44l.94 2.06.94-2.06 2.06-.94-2.06-.94-.94-2.06-.94 2.06-2.06.94zm-11 1L8.5 8.5l.94-2.06 2.06-.94-2.06-.94L8.5 2.5l-.94 2.06-2.06.94zm10 10l.94 2.06.94-2.06 2.06-.94-2.06-.94-.94-2.06-.94 2.06-2.06.94z\"/><path d=\"M17.41 7.96l-1.37-1.37c-.4-.4-.92-.59-1.43-.59-.52 0-1.04.2-1.43.59L10.3 9.45l-7.72 7.72c-.78.78-.78 2.05 0 2.83L4 21.41c.39.39.9.59 1.41.59.51 0 1.02-.2 1.41-.59l7.78-7.78 2.81-2.81c.8-.78.8-2.07 0-2.86zM5.41 20L4 18.59l7.72-7.72 1.47 1.35L5.41 20z\"/>\n",
              "  </svg>\n",
              "      </button>\n",
              "      \n",
              "  <style>\n",
              "    .colab-df-container {\n",
              "      display:flex;\n",
              "      flex-wrap:wrap;\n",
              "      gap: 12px;\n",
              "    }\n",
              "\n",
              "    .colab-df-convert {\n",
              "      background-color: #E8F0FE;\n",
              "      border: none;\n",
              "      border-radius: 50%;\n",
              "      cursor: pointer;\n",
              "      display: none;\n",
              "      fill: #1967D2;\n",
              "      height: 32px;\n",
              "      padding: 0 0 0 0;\n",
              "      width: 32px;\n",
              "    }\n",
              "\n",
              "    .colab-df-convert:hover {\n",
              "      background-color: #E2EBFA;\n",
              "      box-shadow: 0px 1px 2px rgba(60, 64, 67, 0.3), 0px 1px 3px 1px rgba(60, 64, 67, 0.15);\n",
              "      fill: #174EA6;\n",
              "    }\n",
              "\n",
              "    [theme=dark] .colab-df-convert {\n",
              "      background-color: #3B4455;\n",
              "      fill: #D2E3FC;\n",
              "    }\n",
              "\n",
              "    [theme=dark] .colab-df-convert:hover {\n",
              "      background-color: #434B5C;\n",
              "      box-shadow: 0px 1px 3px 1px rgba(0, 0, 0, 0.15);\n",
              "      filter: drop-shadow(0px 1px 2px rgba(0, 0, 0, 0.3));\n",
              "      fill: #FFFFFF;\n",
              "    }\n",
              "  </style>\n",
              "\n",
              "      <script>\n",
              "        const buttonEl =\n",
              "          document.querySelector('#df-55814e34-e7a8-4bcc-8d60-a2d464cf95d1 button.colab-df-convert');\n",
              "        buttonEl.style.display =\n",
              "          google.colab.kernel.accessAllowed ? 'block' : 'none';\n",
              "\n",
              "        async function convertToInteractive(key) {\n",
              "          const element = document.querySelector('#df-55814e34-e7a8-4bcc-8d60-a2d464cf95d1');\n",
              "          const dataTable =\n",
              "            await google.colab.kernel.invokeFunction('convertToInteractive',\n",
              "                                                     [key], {});\n",
              "          if (!dataTable) return;\n",
              "\n",
              "          const docLinkHtml = 'Like what you see? Visit the ' +\n",
              "            '<a target=\"_blank\" href=https://colab.research.google.com/notebooks/data_table.ipynb>data table notebook</a>'\n",
              "            + ' to learn more about interactive tables.';\n",
              "          element.innerHTML = '';\n",
              "          dataTable['output_type'] = 'display_data';\n",
              "          await google.colab.output.renderOutput(dataTable, element);\n",
              "          const docLink = document.createElement('div');\n",
              "          docLink.innerHTML = docLinkHtml;\n",
              "          element.appendChild(docLink);\n",
              "        }\n",
              "      </script>\n",
              "    </div>\n",
              "  </div>\n",
              "  "
            ]
          },
          "metadata": {},
          "execution_count": 17
        }
      ]
    },
    {
      "cell_type": "code",
      "source": [
        "#convert the text to a matrix of token counts\n",
        "#tokenization of the data of text into a matrix of counts; why do we do this because ML models are not able to intrepret natural text\n",
        "cm = CountVectorizer().fit_transform(df['important_features'])"
      ],
      "metadata": {
        "id": "qVEjzzpaM9rV"
      },
      "execution_count": null,
      "outputs": []
    },
    {
      "cell_type": "code",
      "source": [
        "#get the cosine similarity matrix from the count matrix\n",
        "cs = cosine_similarity(cm)\n",
        "#print the cosine similarity matrix\n",
        "print(cs)"
      ],
      "metadata": {
        "colab": {
          "base_uri": "https://localhost:8080/"
        },
        "id": "DKjXJRm1NPv0",
        "outputId": "a90c52cc-2b9d-479b-a969-51c9b6adeb65"
      },
      "execution_count": null,
      "outputs": [
        {
          "output_type": "stream",
          "name": "stdout",
          "text": [
            "[[1.         0.1767767  0.06085806 ... 0.0571662  0.06537205 0.        ]\n",
            " [0.1767767  1.         0.         ... 0.         0.06933752 0.        ]\n",
            " [0.06085806 0.         1.         ... 0.         0.         0.        ]\n",
            " ...\n",
            " [0.0571662  0.         0.         ... 1.         0.06726728 0.        ]\n",
            " [0.06537205 0.06933752 0.         ... 0.06726728 1.         0.07161149]\n",
            " [0.         0.         0.         ... 0.         0.07161149 1.        ]]\n"
          ]
        }
      ]
    },
    {
      "cell_type": "code",
      "source": [
        "#get the shape of the cosine similarity matrix\n",
        "cs.shape"
      ],
      "metadata": {
        "colab": {
          "base_uri": "https://localhost:8080/"
        },
        "id": "PuT24yJpNhhW",
        "outputId": "d92f5863-84d0-4b47-9603-e9e53a37181a"
      },
      "execution_count": null,
      "outputs": [
        {
          "output_type": "execute_result",
          "data": {
            "text/plain": [
              "(1000, 1000)"
            ]
          },
          "metadata": {},
          "execution_count": 20
        }
      ]
    },
    {
      "cell_type": "code",
      "source": [
        "#get the title of the movie that the user likes\n",
        "title = 'Deadpool'\n",
        "\n",
        "#find the movies id\n",
        "movie_id = df[df.Title == title]['Movie_id'].values[0]"
      ],
      "metadata": {
        "id": "tf46hJ4pNxIq"
      },
      "execution_count": null,
      "outputs": []
    },
    {
      "cell_type": "code",
      "source": [
        "#create a list of enums for the similarity score\n",
        "scores = list(enumerate(cs[movie_id]))"
      ],
      "metadata": {
        "id": "q6IfT70ePKq3"
      },
      "execution_count": null,
      "outputs": []
    },
    {
      "cell_type": "code",
      "source": [
        "#sort the list using the lambda function to index through the matrix\n",
        "sorted_scores = sorted(scores, key = lambda x:x[1], reverse = True)\n",
        "sorted_scores = sorted_scores[1:]"
      ],
      "metadata": {
        "id": "jqF76tbBPoIe"
      },
      "execution_count": null,
      "outputs": []
    },
    {
      "cell_type": "code",
      "source": [
        "#print the sorted scores\n",
        "print(sorted_scores)"
      ],
      "metadata": {
        "colab": {
          "base_uri": "https://localhost:8080/"
        },
        "id": "lfPCcCTJQP-z",
        "outputId": "a3756952-3133-4c0f-b404-dfb3335186d1"
      },
      "execution_count": null,
      "outputs": [
        {
          "output_type": "stream",
          "name": "stdout",
          "text": [
            "[(448, 0.3450327796711771), (998, 0.28644594961577313), (673, 0.2581988897471611), (993, 0.2581988897471611), (8, 0.25048971643405976), (268, 0.25048971643405976), (67, 0.24343224778007383), (921, 0.2369395511036369), (115, 0.21483446221182984), (646, 0.21483446221182984), (846, 0.21483446221182984), (346, 0.20701966780270625), (372, 0.20701966780270625), (409, 0.20701966780270625), (464, 0.20701966780270625), (492, 0.20701966780270625), (565, 0.20701966780270625), (951, 0.20701966780270625), (14, 0.19999999999999996), (119, 0.19999999999999996), (179, 0.19999999999999996), (217, 0.19999999999999996), (331, 0.19999999999999996), (456, 0.19999999999999996), (597, 0.19999999999999996), (618, 0.19999999999999996), (688, 0.19999999999999996), (715, 0.19999999999999996), (728, 0.19999999999999996), (810, 0.19999999999999996), (833, 0.19999999999999996), (95, 0.19364916731037082), (104, 0.19364916731037082), (199, 0.19364916731037082), (220, 0.19364916731037082), (537, 0.19364916731037082), (781, 0.19364916731037082), (65, 0.1878672873255448), (166, 0.1878672873255448), (304, 0.1878672873255448), (396, 0.1878672873255448), (496, 0.1878672873255448), (657, 0.1878672873255448), (426, 0.1732050807568877), (264, 0.1690308509457033), (255, 0.14322297480788657), (284, 0.14322297480788657), (769, 0.14322297480788657), (13, 0.13801311186847084), (26, 0.13801311186847084), (74, 0.13801311186847084), (79, 0.13801311186847084), (87, 0.13801311186847084), (91, 0.13801311186847084), (101, 0.13801311186847084), (149, 0.13801311186847084), (169, 0.13801311186847084), (174, 0.13801311186847084), (175, 0.13801311186847084), (204, 0.13801311186847084), (228, 0.13801311186847084), (242, 0.13801311186847084), (248, 0.13801311186847084), (256, 0.13801311186847084), (270, 0.13801311186847084), (275, 0.13801311186847084), (278, 0.13801311186847084), (288, 0.13801311186847084), (330, 0.13801311186847084), (363, 0.13801311186847084), (386, 0.13801311186847084), (390, 0.13801311186847084), (400, 0.13801311186847084), (407, 0.13801311186847084), (499, 0.13801311186847084), (589, 0.13801311186847084), (599, 0.13801311186847084), (718, 0.13801311186847084), (802, 0.13801311186847084), (856, 0.13801311186847084), (883, 0.13801311186847084), (920, 0.13801311186847084), (4, 0.1333333333333333), (23, 0.1333333333333333), (29, 0.1333333333333333), (40, 0.1333333333333333), (140, 0.1333333333333333), (159, 0.1333333333333333), (161, 0.1333333333333333), (164, 0.1333333333333333), (210, 0.1333333333333333), (212, 0.1333333333333333), (227, 0.1333333333333333), (232, 0.1333333333333333), (239, 0.1333333333333333), (241, 0.1333333333333333), (274, 0.1333333333333333), (318, 0.1333333333333333), (344, 0.1333333333333333), (355, 0.1333333333333333), (369, 0.1333333333333333), (379, 0.1333333333333333), (385, 0.1333333333333333), (393, 0.1333333333333333), (403, 0.1333333333333333), (412, 0.1333333333333333), (472, 0.1333333333333333), (484, 0.1333333333333333), (485, 0.1333333333333333), (559, 0.1333333333333333), (577, 0.1333333333333333), (584, 0.1333333333333333), (600, 0.1333333333333333), (625, 0.1333333333333333), (649, 0.1333333333333333), (663, 0.1333333333333333), (687, 0.1333333333333333), (693, 0.1333333333333333), (702, 0.1333333333333333), (731, 0.1333333333333333), (753, 0.1333333333333333), (787, 0.1333333333333333), (797, 0.1333333333333333), (880, 0.1333333333333333), (895, 0.1333333333333333), (897, 0.1333333333333333), (5, 0.12909944487358055), (12, 0.12909944487358055), (32, 0.12909944487358055), (38, 0.12909944487358055), (51, 0.12909944487358055), (80, 0.12909944487358055), (131, 0.12909944487358055), (142, 0.12909944487358055), (157, 0.12909944487358055), (167, 0.12909944487358055), (205, 0.12909944487358055), (219, 0.12909944487358055), (221, 0.12909944487358055), (272, 0.12909944487358055), (276, 0.12909944487358055), (281, 0.12909944487358055), (287, 0.12909944487358055), (294, 0.12909944487358055), (315, 0.12909944487358055), (345, 0.12909944487358055), (368, 0.12909944487358055), (387, 0.12909944487358055), (389, 0.12909944487358055), (414, 0.12909944487358055), (432, 0.12909944487358055), (454, 0.12909944487358055), (469, 0.12909944487358055), (528, 0.12909944487358055), (529, 0.12909944487358055), (552, 0.12909944487358055), (563, 0.12909944487358055), (581, 0.12909944487358055), (603, 0.12909944487358055), (660, 0.12909944487358055), (725, 0.12909944487358055), (758, 0.12909944487358055), (770, 0.12909944487358055), (775, 0.12909944487358055), (814, 0.12909944487358055), (835, 0.12909944487358055), (854, 0.12909944487358055), (869, 0.12909944487358055), (901, 0.12909944487358055), (924, 0.12909944487358055), (969, 0.12909944487358055), (985, 0.12909944487358055), (6, 0.12524485821702988), (15, 0.12524485821702988), (24, 0.12524485821702988), (37, 0.12524485821702988), (48, 0.12524485821702988), (85, 0.12524485821702988), (107, 0.12524485821702988), (200, 0.12524485821702988), (203, 0.12524485821702988), (214, 0.12524485821702988), (215, 0.12524485821702988), (224, 0.12524485821702988), (233, 0.12524485821702988), (235, 0.12524485821702988), (238, 0.12524485821702988), (286, 0.12524485821702988), (296, 0.12524485821702988), (362, 0.12524485821702988), (378, 0.12524485821702988), (388, 0.12524485821702988), (433, 0.12524485821702988), (450, 0.12524485821702988), (491, 0.12524485821702988), (516, 0.12524485821702988), (547, 0.12524485821702988), (575, 0.12524485821702988), (626, 0.12524485821702988), (698, 0.12524485821702988), (712, 0.12524485821702988), (799, 0.12524485821702988), (878, 0.12524485821702988), (879, 0.12524485821702988), (916, 0.12524485821702988), (0, 0.12171612389003691), (126, 0.12171612389003691), (163, 0.12171612389003691), (234, 0.12171612389003691), (243, 0.12171612389003691), (253, 0.12171612389003691), (279, 0.12171612389003691), (316, 0.12171612389003691), (325, 0.12171612389003691), (384, 0.12171612389003691), (438, 0.12171612389003691), (447, 0.12171612389003691), (564, 0.12171612389003691), (667, 0.12171612389003691), (674, 0.12171612389003691), (827, 0.12171612389003691), (837, 0.12171612389003691), (867, 0.12171612389003691), (871, 0.12171612389003691), (903, 0.12171612389003691), (948, 0.12171612389003691), (990, 0.12171612389003691), (35, 0.11846977555181845), (50, 0.11846977555181845), (60, 0.11846977555181845), (120, 0.11846977555181845), (122, 0.11846977555181845), (156, 0.11846977555181845), (158, 0.11846977555181845), (162, 0.11846977555181845), (177, 0.11846977555181845), (195, 0.11846977555181845), (216, 0.11846977555181845), (465, 0.11846977555181845), (560, 0.11846977555181845), (609, 0.11846977555181845), (681, 0.11846977555181845), (710, 0.11846977555181845), (772, 0.11846977555181845), (45, 0.11547005383792514), (75, 0.11547005383792514), (78, 0.11547005383792514), (566, 0.11547005383792514), (822, 0.11547005383792514), (953, 0.11547005383792514), (94, 0.1126872339638022), (408, 0.1126872339638022), (558, 0.1126872339638022), (578, 0.1126872339638022), (680, 0.1126872339638022), (803, 0.1126872339638022), (843, 0.1126872339638022), (935, 0.1126872339638022), (739, 0.11009637651263604), (806, 0.11009637651263604), (862, 0.11009637651263604), (619, 0.10767638041163309), (629, 0.10540925533894598), (767, 0.10540925533894598), (176, 0.10327955589886445), (7, 0.07453559924999299), (430, 0.07453559924999299), (457, 0.07453559924999299), (719, 0.07453559924999299), (790, 0.07453559924999299), (28, 0.07161148740394328), (148, 0.07161148740394328), (207, 0.07161148740394328), (208, 0.07161148740394328), (317, 0.07161148740394328), (360, 0.07161148740394328), (377, 0.07161148740394328), (394, 0.07161148740394328), (397, 0.07161148740394328), (410, 0.07161148740394328), (624, 0.07161148740394328), (631, 0.07161148740394328), (678, 0.07161148740394328), (722, 0.07161148740394328), (730, 0.07161148740394328), (740, 0.07161148740394328), (829, 0.07161148740394328), (844, 0.07161148740394328), (928, 0.07161148740394328), (937, 0.07161148740394328), (966, 0.07161148740394328), (977, 0.07161148740394328), (994, 0.07161148740394328), (3, 0.06900655593423542), (9, 0.06900655593423542), (30, 0.06900655593423542), (47, 0.06900655593423542), (52, 0.06900655593423542), (55, 0.06900655593423542), (71, 0.06900655593423542), (81, 0.06900655593423542), (89, 0.06900655593423542), (106, 0.06900655593423542), (113, 0.06900655593423542), (123, 0.06900655593423542), (127, 0.06900655593423542), (134, 0.06900655593423542), (188, 0.06900655593423542), (189, 0.06900655593423542), (194, 0.06900655593423542), (240, 0.06900655593423542), (266, 0.06900655593423542), (285, 0.06900655593423542), (322, 0.06900655593423542), (339, 0.06900655593423542), (348, 0.06900655593423542), (352, 0.06900655593423542), (364, 0.06900655593423542), (370, 0.06900655593423542), (373, 0.06900655593423542), (375, 0.06900655593423542), (399, 0.06900655593423542), (411, 0.06900655593423542), (420, 0.06900655593423542), (435, 0.06900655593423542), (443, 0.06900655593423542), (446, 0.06900655593423542), (451, 0.06900655593423542), (452, 0.06900655593423542), (466, 0.06900655593423542), (482, 0.06900655593423542), (483, 0.06900655593423542), (486, 0.06900655593423542), (488, 0.06900655593423542), (503, 0.06900655593423542), (508, 0.06900655593423542), (511, 0.06900655593423542), (515, 0.06900655593423542), (517, 0.06900655593423542), (522, 0.06900655593423542), (571, 0.06900655593423542), (582, 0.06900655593423542), (587, 0.06900655593423542), (611, 0.06900655593423542), (620, 0.06900655593423542), (634, 0.06900655593423542), (635, 0.06900655593423542), (639, 0.06900655593423542), (642, 0.06900655593423542), (699, 0.06900655593423542), (703, 0.06900655593423542), (716, 0.06900655593423542), (734, 0.06900655593423542), (750, 0.06900655593423542), (756, 0.06900655593423542), (763, 0.06900655593423542), (765, 0.06900655593423542), (777, 0.06900655593423542), (778, 0.06900655593423542), (783, 0.06900655593423542), (789, 0.06900655593423542), (801, 0.06900655593423542), (828, 0.06900655593423542), (834, 0.06900655593423542), (859, 0.06900655593423542), (899, 0.06900655593423542), (902, 0.06900655593423542), (930, 0.06900655593423542), (956, 0.06900655593423542), (968, 0.06900655593423542), (981, 0.06900655593423542), (984, 0.06900655593423542), (989, 0.06900655593423542), (17, 0.06666666666666665), (20, 0.06666666666666665), (36, 0.06666666666666665), (53, 0.06666666666666665), (58, 0.06666666666666665), (69, 0.06666666666666665), (77, 0.06666666666666665), (84, 0.06666666666666665), (93, 0.06666666666666665), (117, 0.06666666666666665), (121, 0.06666666666666665), (128, 0.06666666666666665), (147, 0.06666666666666665), (150, 0.06666666666666665), (153, 0.06666666666666665), (172, 0.06666666666666665), (213, 0.06666666666666665), (226, 0.06666666666666665), (247, 0.06666666666666665), (250, 0.06666666666666665), (292, 0.06666666666666665), (298, 0.06666666666666665), (301, 0.06666666666666665), (303, 0.06666666666666665), (319, 0.06666666666666665), (334, 0.06666666666666665), (340, 0.06666666666666665), (341, 0.06666666666666665), (353, 0.06666666666666665), (354, 0.06666666666666665), (356, 0.06666666666666665), (359, 0.06666666666666665), (391, 0.06666666666666665), (398, 0.06666666666666665), (402, 0.06666666666666665), (415, 0.06666666666666665), (439, 0.06666666666666665), (453, 0.06666666666666665), (468, 0.06666666666666665), (493, 0.06666666666666665), (509, 0.06666666666666665), (513, 0.06666666666666665), (526, 0.06666666666666665), (530, 0.06666666666666665), (536, 0.06666666666666665), (557, 0.06666666666666665), (567, 0.06666666666666665), (572, 0.06666666666666665), (573, 0.06666666666666665), (580, 0.06666666666666665), (588, 0.06666666666666665), (594, 0.06666666666666665), (621, 0.06666666666666665), (627, 0.06666666666666665), (641, 0.06666666666666665), (668, 0.06666666666666665), (669, 0.06666666666666665), (676, 0.06666666666666665), (682, 0.06666666666666665), (694, 0.06666666666666665), (707, 0.06666666666666665), (721, 0.06666666666666665), (726, 0.06666666666666665), (735, 0.06666666666666665), (743, 0.06666666666666665), (752, 0.06666666666666665), (755, 0.06666666666666665), (759, 0.06666666666666665), (766, 0.06666666666666665), (771, 0.06666666666666665), (780, 0.06666666666666665), (788, 0.06666666666666665), (795, 0.06666666666666665), (796, 0.06666666666666665), (817, 0.06666666666666665), (855, 0.06666666666666665), (876, 0.06666666666666665), (888, 0.06666666666666665), (892, 0.06666666666666665), (898, 0.06666666666666665), (904, 0.06666666666666665), (908, 0.06666666666666665), (922, 0.06666666666666665), (923, 0.06666666666666665), (943, 0.06666666666666665), (944, 0.06666666666666665), (949, 0.06666666666666665), (955, 0.06666666666666665), (958, 0.06666666666666665), (983, 0.06666666666666665), (999, 0.06666666666666665), (1, 0.06454972243679027), (39, 0.06454972243679027), (54, 0.06454972243679027), (76, 0.06454972243679027), (102, 0.06454972243679027), (124, 0.06454972243679027), (125, 0.06454972243679027), (129, 0.06454972243679027), (141, 0.06454972243679027), (168, 0.06454972243679027), (249, 0.06454972243679027), (262, 0.06454972243679027), (297, 0.06454972243679027), (300, 0.06454972243679027), (305, 0.06454972243679027), (309, 0.06454972243679027), (323, 0.06454972243679027), (342, 0.06454972243679027), (343, 0.06454972243679027), (349, 0.06454972243679027), (358, 0.06454972243679027), (374, 0.06454972243679027), (383, 0.06454972243679027), (424, 0.06454972243679027), (427, 0.06454972243679027), (431, 0.06454972243679027), (445, 0.06454972243679027), (458, 0.06454972243679027), (475, 0.06454972243679027), (480, 0.06454972243679027), (489, 0.06454972243679027), (514, 0.06454972243679027), (523, 0.06454972243679027), (527, 0.06454972243679027), (532, 0.06454972243679027), (533, 0.06454972243679027), (542, 0.06454972243679027), (555, 0.06454972243679027), (570, 0.06454972243679027), (576, 0.06454972243679027), (579, 0.06454972243679027), (585, 0.06454972243679027), (593, 0.06454972243679027), (596, 0.06454972243679027), (601, 0.06454972243679027), (607, 0.06454972243679027), (615, 0.06454972243679027), (630, 0.06454972243679027), (661, 0.06454972243679027), (677, 0.06454972243679027), (704, 0.06454972243679027), (724, 0.06454972243679027), (737, 0.06454972243679027), (747, 0.06454972243679027), (791, 0.06454972243679027), (794, 0.06454972243679027), (840, 0.06454972243679027), (872, 0.06454972243679027), (912, 0.06454972243679027), (934, 0.06454972243679027), (954, 0.06454972243679027), (972, 0.06454972243679027), (151, 0.06262242910851494), (180, 0.06262242910851494), (197, 0.06262242910851494), (271, 0.06262242910851494), (273, 0.06262242910851494), (291, 0.06262242910851494), (310, 0.06262242910851494), (336, 0.06262242910851494), (525, 0.06262242910851494), (550, 0.06262242910851494), (690, 0.06262242910851494), (700, 0.06262242910851494), (701, 0.06262242910851494), (714, 0.06262242910851494), (732, 0.06262242910851494), (741, 0.06262242910851494), (792, 0.06262242910851494), (793, 0.06262242910851494), (807, 0.06262242910851494), (870, 0.06262242910851494), (900, 0.06262242910851494), (919, 0.06262242910851494), (938, 0.06262242910851494), (941, 0.06262242910851494), (967, 0.06262242910851494), (992, 0.06262242910851494), (25, 0.06085806194501846), (82, 0.06085806194501846), (146, 0.06085806194501846), (155, 0.06085806194501846), (171, 0.06085806194501846), (290, 0.06085806194501846), (371, 0.06085806194501846), (423, 0.06085806194501846), (440, 0.06085806194501846), (535, 0.06085806194501846), (568, 0.06085806194501846), (617, 0.06085806194501846), (696, 0.06085806194501846), (761, 0.06085806194501846), (821, 0.06085806194501846), (831, 0.06085806194501846), (868, 0.06085806194501846), (881, 0.06085806194501846), (894, 0.06085806194501846), (975, 0.06085806194501846), (34, 0.059234887775909226), (110, 0.059234887775909226), (306, 0.059234887775909226), (366, 0.059234887775909226), (429, 0.059234887775909226), (434, 0.059234887775909226), (507, 0.059234887775909226), (809, 0.059234887775909226), (889, 0.059234887775909226), (893, 0.059234887775909226), (906, 0.059234887775909226), (925, 0.059234887775909226), (952, 0.059234887775909226), (10, 0.05773502691896257), (114, 0.05773502691896257), (418, 0.05773502691896257), (422, 0.05773502691896257), (473, 0.05773502691896257), (500, 0.05773502691896257), (518, 0.05773502691896257), (546, 0.05773502691896257), (583, 0.05773502691896257), (662, 0.05773502691896257), (683, 0.05773502691896257), (749, 0.05773502691896257), (784, 0.05773502691896257), (813, 0.05773502691896257), (874, 0.05773502691896257), (135, 0.0563436169819011), (260, 0.0563436169819011), (602, 0.0563436169819011), (679, 0.0563436169819011), (800, 0.0563436169819011), (891, 0.0563436169819011), (327, 0.05504818825631802), (650, 0.05504818825631802), (950, 0.05504818825631802), (308, 0.053838190205816545), (314, 0.053838190205816545), (614, 0.053838190205816545), (632, 0.053838190205816545), (653, 0.053838190205816545), (244, 0.05270462766947299), (380, 0.05270462766947299), (745, 0.05270462766947299), (257, 0.051639777949432225), (313, 0.050636968354183326), (2, 0.0), (11, 0.0), (16, 0.0), (18, 0.0), (19, 0.0), (21, 0.0), (22, 0.0), (27, 0.0), (31, 0.0), (41, 0.0), (42, 0.0), (43, 0.0), (44, 0.0), (46, 0.0), (49, 0.0), (56, 0.0), (57, 0.0), (59, 0.0), (61, 0.0), (62, 0.0), (63, 0.0), (64, 0.0), (66, 0.0), (68, 0.0), (70, 0.0), (72, 0.0), (73, 0.0), (83, 0.0), (86, 0.0), (88, 0.0), (90, 0.0), (92, 0.0), (96, 0.0), (97, 0.0), (98, 0.0), (99, 0.0), (100, 0.0), (103, 0.0), (105, 0.0), (108, 0.0), (109, 0.0), (111, 0.0), (112, 0.0), (116, 0.0), (118, 0.0), (130, 0.0), (132, 0.0), (133, 0.0), (136, 0.0), (137, 0.0), (138, 0.0), (139, 0.0), (143, 0.0), (144, 0.0), (145, 0.0), (152, 0.0), (154, 0.0), (160, 0.0), (165, 0.0), (170, 0.0), (173, 0.0), (178, 0.0), (181, 0.0), (182, 0.0), (183, 0.0), (184, 0.0), (185, 0.0), (186, 0.0), (187, 0.0), (190, 0.0), (191, 0.0), (192, 0.0), (193, 0.0), (196, 0.0), (198, 0.0), (201, 0.0), (202, 0.0), (206, 0.0), (209, 0.0), (211, 0.0), (218, 0.0), (222, 0.0), (223, 0.0), (225, 0.0), (229, 0.0), (230, 0.0), (231, 0.0), (236, 0.0), (237, 0.0), (245, 0.0), (246, 0.0), (251, 0.0), (252, 0.0), (254, 0.0), (258, 0.0), (259, 0.0), (261, 0.0), (263, 0.0), (265, 0.0), (267, 0.0), (269, 0.0), (277, 0.0), (280, 0.0), (282, 0.0), (283, 0.0), (289, 0.0), (293, 0.0), (295, 0.0), (299, 0.0), (302, 0.0), (307, 0.0), (311, 0.0), (312, 0.0), (320, 0.0), (321, 0.0), (324, 0.0), (326, 0.0), (328, 0.0), (329, 0.0), (332, 0.0), (333, 0.0), (335, 0.0), (337, 0.0), (338, 0.0), (347, 0.0), (350, 0.0), (351, 0.0), (357, 0.0), (361, 0.0), (365, 0.0), (367, 0.0), (376, 0.0), (381, 0.0), (382, 0.0), (392, 0.0), (395, 0.0), (401, 0.0), (404, 0.0), (405, 0.0), (406, 0.0), (413, 0.0), (416, 0.0), (417, 0.0), (419, 0.0), (421, 0.0), (425, 0.0), (428, 0.0), (436, 0.0), (437, 0.0), (441, 0.0), (442, 0.0), (444, 0.0), (449, 0.0), (455, 0.0), (459, 0.0), (460, 0.0), (461, 0.0), (462, 0.0), (463, 0.0), (467, 0.0), (470, 0.0), (471, 0.0), (474, 0.0), (476, 0.0), (477, 0.0), (478, 0.0), (479, 0.0), (481, 0.0), (487, 0.0), (490, 0.0), (494, 0.0), (495, 0.0), (497, 0.0), (498, 0.0), (501, 0.0), (502, 0.0), (504, 0.0), (505, 0.0), (506, 0.0), (510, 0.0), (512, 0.0), (519, 0.0), (520, 0.0), (521, 0.0), (524, 0.0), (531, 0.0), (534, 0.0), (538, 0.0), (539, 0.0), (540, 0.0), (541, 0.0), (543, 0.0), (544, 0.0), (545, 0.0), (548, 0.0), (549, 0.0), (551, 0.0), (553, 0.0), (554, 0.0), (556, 0.0), (561, 0.0), (562, 0.0), (569, 0.0), (574, 0.0), (586, 0.0), (590, 0.0), (591, 0.0), (592, 0.0), (595, 0.0), (598, 0.0), (604, 0.0), (605, 0.0), (606, 0.0), (608, 0.0), (610, 0.0), (612, 0.0), (613, 0.0), (616, 0.0), (622, 0.0), (623, 0.0), (628, 0.0), (633, 0.0), (636, 0.0), (637, 0.0), (638, 0.0), (640, 0.0), (643, 0.0), (644, 0.0), (645, 0.0), (647, 0.0), (648, 0.0), (651, 0.0), (652, 0.0), (654, 0.0), (655, 0.0), (656, 0.0), (658, 0.0), (659, 0.0), (664, 0.0), (665, 0.0), (666, 0.0), (670, 0.0), (671, 0.0), (672, 0.0), (675, 0.0), (684, 0.0), (685, 0.0), (686, 0.0), (689, 0.0), (691, 0.0), (692, 0.0), (695, 0.0), (697, 0.0), (705, 0.0), (706, 0.0), (708, 0.0), (709, 0.0), (711, 0.0), (713, 0.0), (717, 0.0), (720, 0.0), (723, 0.0), (727, 0.0), (729, 0.0), (733, 0.0), (736, 0.0), (738, 0.0), (742, 0.0), (744, 0.0), (746, 0.0), (748, 0.0), (751, 0.0), (754, 0.0), (757, 0.0), (760, 0.0), (762, 0.0), (764, 0.0), (768, 0.0), (773, 0.0), (774, 0.0), (776, 0.0), (779, 0.0), (782, 0.0), (785, 0.0), (786, 0.0), (798, 0.0), (804, 0.0), (805, 0.0), (808, 0.0), (811, 0.0), (812, 0.0), (815, 0.0), (816, 0.0), (818, 0.0), (819, 0.0), (820, 0.0), (823, 0.0), (824, 0.0), (825, 0.0), (826, 0.0), (830, 0.0), (832, 0.0), (836, 0.0), (838, 0.0), (839, 0.0), (841, 0.0), (842, 0.0), (845, 0.0), (847, 0.0), (848, 0.0), (849, 0.0), (850, 0.0), (851, 0.0), (852, 0.0), (853, 0.0), (857, 0.0), (858, 0.0), (860, 0.0), (861, 0.0), (863, 0.0), (864, 0.0), (865, 0.0), (866, 0.0), (873, 0.0), (875, 0.0), (877, 0.0), (882, 0.0), (884, 0.0), (885, 0.0), (886, 0.0), (887, 0.0), (890, 0.0), (896, 0.0), (905, 0.0), (907, 0.0), (909, 0.0), (910, 0.0), (911, 0.0), (913, 0.0), (914, 0.0), (915, 0.0), (917, 0.0), (918, 0.0), (926, 0.0), (927, 0.0), (929, 0.0), (931, 0.0), (932, 0.0), (933, 0.0), (936, 0.0), (939, 0.0), (940, 0.0), (942, 0.0), (945, 0.0), (946, 0.0), (947, 0.0), (957, 0.0), (959, 0.0), (960, 0.0), (961, 0.0), (962, 0.0), (963, 0.0), (964, 0.0), (965, 0.0), (970, 0.0), (971, 0.0), (973, 0.0), (974, 0.0), (976, 0.0), (978, 0.0), (979, 0.0), (980, 0.0), (982, 0.0), (986, 0.0), (987, 0.0), (988, 0.0), (991, 0.0), (995, 0.0), (996, 0.0), (997, 0.0)]\n"
          ]
        }
      ]
    },
    {
      "cell_type": "code",
      "source": [
        "#create a loop to print the first 7 similar movies\n",
        "j = 0\n",
        "print('The 7 Most recommended movies to watch, similar to', title, 'are:\\n')\n",
        "\n",
        "for item in sorted_scores:\n",
        "  movie_title = df[df.Movie_id == item[0]]['Title'].values[0]\n",
        "  print(j+1, movie_title)\n",
        "  j = j+1\n",
        "  if j>6:\n",
        "    break"
      ],
      "metadata": {
        "colab": {
          "base_uri": "https://localhost:8080/"
        },
        "id": "G8vlgMlLQbhR",
        "outputId": "cd763f20-53b2-40d7-a175-a420204044d7"
      },
      "execution_count": null,
      "outputs": [
        {
          "output_type": "stream",
          "name": "stdout",
          "text": [
            "The 7 Most recommended movies to watch, similar to Deadpool are:\n",
            "\n",
            "1 Big Hero 6\n",
            "2 Search Party\n",
            "3 Green Lantern\n",
            "4 Resident Evil: Afterlife\n",
            "5 The Lost City of Z\n",
            "6 X-Men Origins: Wolverine\n",
            "7 Mad Max: Fury Road\n"
          ]
        }
      ]
    }
  ]
}